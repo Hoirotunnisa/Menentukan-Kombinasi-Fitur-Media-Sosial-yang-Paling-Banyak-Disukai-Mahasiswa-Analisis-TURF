{
  "nbformat": 4,
  "nbformat_minor": 0,
  "metadata": {
    "colab": {
      "provenance": [],
      "authorship_tag": "ABX9TyPHmMcahbZO3fTy/C6FeS+Y",
      "include_colab_link": true
    },
    "kernelspec": {
      "name": "python3",
      "display_name": "Python 3"
    },
    "language_info": {
      "name": "python"
    }
  },
  "cells": [
    {
      "cell_type": "markdown",
      "metadata": {
        "id": "view-in-github",
        "colab_type": "text"
      },
      "source": [
        "<a href=\"https://colab.research.google.com/github/Hoirotunnisa/Menentukan-Kombinasi-Fitur-Media-Sosial-yang-Paling-Banyak-Disukai-Mahasiswa-Analisis-TURF/blob/main/StatMul_TURF.ipynb\" target=\"_parent\"><img src=\"https://colab.research.google.com/assets/colab-badge.svg\" alt=\"Open In Colab\"/></a>"
      ]
    },
    {
      "cell_type": "markdown",
      "source": [
        "#**Menentukan Kombinasi Fitur Media Sosial yang Paling Banyak Disukai Mahasiswa: Analisis TURF**\n",
        "- **Nama        :** Hoirotun Nisa'\n",
        "- **Kelas       :** Matematika 6B\n",
        "- **NIM         :** 11220940000003"
      ],
      "metadata": {
        "id": "W4qjOcId7axw"
      }
    },
    {
      "cell_type": "markdown",
      "source": [
        "## Import Semua Packages/Library yang Digunakan"
      ],
      "metadata": {
        "id": "F3KF9jh7yZBY"
      }
    },
    {
      "cell_type": "code",
      "source": [
        "import pandas as pd\n",
        "import matplotlib.pyplot as plt\n",
        "from sklearn.preprocessing import MultiLabelBinarizer\n",
        "import ipywidgets as widgets\n",
        "from IPython.display import display, clear_output\n",
        "import itertools"
      ],
      "metadata": {
        "id": "yJGVylUv-KlX"
      },
      "execution_count": null,
      "outputs": []
    },
    {
      "cell_type": "markdown",
      "source": [
        "### Gathering Data"
      ],
      "metadata": {
        "id": "zx7bUolCyjlz"
      }
    },
    {
      "cell_type": "code",
      "source": [
        "# Load data\n",
        "df = pd.read_excel(\"/content/data turf statmul.xlsx\")"
      ],
      "metadata": {
        "id": "1X_DC6BG-OHn"
      },
      "execution_count": null,
      "outputs": []
    },
    {
      "cell_type": "markdown",
      "source": [
        "### Assessing Data"
      ],
      "metadata": {
        "id": "AamKYTgbyvV_"
      }
    },
    {
      "cell_type": "code",
      "source": [
        "# Informasi dasar dataset\n",
        "df.info()"
      ],
      "metadata": {
        "colab": {
          "base_uri": "https://localhost:8080/"
        },
        "id": "qdn_b_8J-nbT",
        "outputId": "d1080b90-2d2d-4369-837b-42982fe4490b"
      },
      "execution_count": null,
      "outputs": [
        {
          "output_type": "stream",
          "name": "stdout",
          "text": [
            "<class 'pandas.core.frame.DataFrame'>\n",
            "RangeIndex: 147 entries, 0 to 146\n",
            "Data columns (total 19 columns):\n",
            " #   Column              Non-Null Count  Dtype\n",
            "---  ------              --------------  -----\n",
            " 0   pengguna            147 non-null    int64\n",
            " 1   WhatsApp            147 non-null    int64\n",
            " 2   Instagram           147 non-null    int64\n",
            " 3   TikTok              147 non-null    int64\n",
            " 4   Facebook            147 non-null    int64\n",
            " 5   Telegram            147 non-null    int64\n",
            " 6   Twitter             147 non-null    int64\n",
            " 7   Line                147 non-null    int64\n",
            " 8   Mencari informasi   147 non-null    int64\n",
            " 9   Melihat berita      147 non-null    int64\n",
            " 10  Hiburan             147 non-null    int64\n",
            " 11  Komunikasi          147 non-null    int64\n",
            " 12  Melihat story       147 non-null    int64\n",
            " 13  Belajar             147 non-null    int64\n",
            " 14  Eksplorasi beranda  147 non-null    int64\n",
            " 15  Sumber informasi    147 non-null    int64\n",
            " 16  Hal baru            147 non-null    int64\n",
            " 17  Bisnis              147 non-null    int64\n",
            " 18  Inspirasi           147 non-null    int64\n",
            "dtypes: int64(19)\n",
            "memory usage: 21.9 KB\n"
          ]
        }
      ]
    },
    {
      "cell_type": "code",
      "source": [
        "# Cek missing value dataset\n",
        "df.isnull().sum()"
      ],
      "metadata": {
        "colab": {
          "base_uri": "https://localhost:8080/",
          "height": 680
        },
        "id": "vpe4dMWm-sKS",
        "outputId": "709717e6-51c4-4da4-9f39-e29a90dcaf0a"
      },
      "execution_count": null,
      "outputs": [
        {
          "output_type": "execute_result",
          "data": {
            "text/plain": [
              "pengguna              0\n",
              "WhatsApp              0\n",
              "Instagram             0\n",
              "TikTok                0\n",
              "Facebook              0\n",
              "Telegram              0\n",
              "Twitter               0\n",
              "Line                  0\n",
              "Mencari informasi     0\n",
              "Melihat berita        0\n",
              "Hiburan               0\n",
              "Komunikasi            0\n",
              "Melihat story         0\n",
              "Belajar               0\n",
              "Eksplorasi beranda    0\n",
              "Sumber informasi      0\n",
              "Hal baru              0\n",
              "Bisnis                0\n",
              "Inspirasi             0\n",
              "dtype: int64"
            ],
            "text/html": [
              "<div>\n",
              "<style scoped>\n",
              "    .dataframe tbody tr th:only-of-type {\n",
              "        vertical-align: middle;\n",
              "    }\n",
              "\n",
              "    .dataframe tbody tr th {\n",
              "        vertical-align: top;\n",
              "    }\n",
              "\n",
              "    .dataframe thead th {\n",
              "        text-align: right;\n",
              "    }\n",
              "</style>\n",
              "<table border=\"1\" class=\"dataframe\">\n",
              "  <thead>\n",
              "    <tr style=\"text-align: right;\">\n",
              "      <th></th>\n",
              "      <th>0</th>\n",
              "    </tr>\n",
              "  </thead>\n",
              "  <tbody>\n",
              "    <tr>\n",
              "      <th>pengguna</th>\n",
              "      <td>0</td>\n",
              "    </tr>\n",
              "    <tr>\n",
              "      <th>WhatsApp</th>\n",
              "      <td>0</td>\n",
              "    </tr>\n",
              "    <tr>\n",
              "      <th>Instagram</th>\n",
              "      <td>0</td>\n",
              "    </tr>\n",
              "    <tr>\n",
              "      <th>TikTok</th>\n",
              "      <td>0</td>\n",
              "    </tr>\n",
              "    <tr>\n",
              "      <th>Facebook</th>\n",
              "      <td>0</td>\n",
              "    </tr>\n",
              "    <tr>\n",
              "      <th>Telegram</th>\n",
              "      <td>0</td>\n",
              "    </tr>\n",
              "    <tr>\n",
              "      <th>Twitter</th>\n",
              "      <td>0</td>\n",
              "    </tr>\n",
              "    <tr>\n",
              "      <th>Line</th>\n",
              "      <td>0</td>\n",
              "    </tr>\n",
              "    <tr>\n",
              "      <th>Mencari informasi</th>\n",
              "      <td>0</td>\n",
              "    </tr>\n",
              "    <tr>\n",
              "      <th>Melihat berita</th>\n",
              "      <td>0</td>\n",
              "    </tr>\n",
              "    <tr>\n",
              "      <th>Hiburan</th>\n",
              "      <td>0</td>\n",
              "    </tr>\n",
              "    <tr>\n",
              "      <th>Komunikasi</th>\n",
              "      <td>0</td>\n",
              "    </tr>\n",
              "    <tr>\n",
              "      <th>Melihat story</th>\n",
              "      <td>0</td>\n",
              "    </tr>\n",
              "    <tr>\n",
              "      <th>Belajar</th>\n",
              "      <td>0</td>\n",
              "    </tr>\n",
              "    <tr>\n",
              "      <th>Eksplorasi beranda</th>\n",
              "      <td>0</td>\n",
              "    </tr>\n",
              "    <tr>\n",
              "      <th>Sumber informasi</th>\n",
              "      <td>0</td>\n",
              "    </tr>\n",
              "    <tr>\n",
              "      <th>Hal baru</th>\n",
              "      <td>0</td>\n",
              "    </tr>\n",
              "    <tr>\n",
              "      <th>Bisnis</th>\n",
              "      <td>0</td>\n",
              "    </tr>\n",
              "    <tr>\n",
              "      <th>Inspirasi</th>\n",
              "      <td>0</td>\n",
              "    </tr>\n",
              "  </tbody>\n",
              "</table>\n",
              "</div><br><label><b>dtype:</b> int64</label>"
            ]
          },
          "metadata": {},
          "execution_count": 62
        }
      ]
    },
    {
      "cell_type": "markdown",
      "source": [
        "### Cleaning dan Preprocessing Dataset"
      ],
      "metadata": {
        "id": "9KZM2YW6y21i"
      }
    },
    {
      "cell_type": "code",
      "source": [
        "# Cek duplikat data\n",
        "df.duplicated().sum()"
      ],
      "metadata": {
        "colab": {
          "base_uri": "https://localhost:8080/"
        },
        "id": "uqsthftw-4Ik",
        "outputId": "5791b25c-cd33-4328-93bb-37a40656e42e"
      },
      "execution_count": null,
      "outputs": [
        {
          "output_type": "execute_result",
          "data": {
            "text/plain": [
              "np.int64(0)"
            ]
          },
          "metadata": {},
          "execution_count": 63
        }
      ]
    },
    {
      "cell_type": "code",
      "source": [
        "# Hapus data duplikat\n",
        "df.drop_duplicates(inplace=True)"
      ],
      "metadata": {
        "id": "g2DRNNJD-9UU"
      },
      "execution_count": null,
      "outputs": []
    },
    {
      "cell_type": "code",
      "source": [
        "print(df.columns)\n"
      ],
      "metadata": {
        "colab": {
          "base_uri": "https://localhost:8080/"
        },
        "id": "577WcQhBLMi4",
        "outputId": "a14ac409-6e0e-477d-9aca-d944a9f97438"
      },
      "execution_count": null,
      "outputs": [
        {
          "output_type": "stream",
          "name": "stdout",
          "text": [
            "Index(['pengguna', 'WhatsApp', 'Instagram', 'TikTok', 'Facebook', 'Telegram',\n",
            "       'Twitter', 'Line', 'Mencari informasi', 'Melihat berita', 'Hiburan',\n",
            "       'Komunikasi', 'Melihat story', 'Belajar', 'Eksplorasi beranda',\n",
            "       'Sumber informasi', 'Hal baru', 'Bisnis', 'Inspirasi'],\n",
            "      dtype='object')\n"
          ]
        }
      ]
    },
    {
      "cell_type": "code",
      "source": [
        "# Pilih hanya kolom media sosial\n",
        "media_cols = ['WhatsApp', 'Instagram', 'TikTok', 'Facebook', 'Telegram', 'Twitter', 'Line']\n",
        "df_media = df[media_cols]\n",
        "n_responden = len(df_media)"
      ],
      "metadata": {
        "id": "-Z_0CpcuZJ-4"
      },
      "execution_count": null,
      "outputs": []
    },
    {
      "cell_type": "markdown",
      "source": [
        "## Analisis TURF"
      ],
      "metadata": {
        "id": "vRtmLC5wzBB9"
      }
    },
    {
      "cell_type": "code",
      "source": [
        "# TURF Analysis: Greedy Algorithm\n",
        "reach_progress = []\n",
        "selected_media = []\n",
        "current_reach = set()"
      ],
      "metadata": {
        "id": "fBG00o-FZNjz"
      },
      "execution_count": null,
      "outputs": []
    },
    {
      "cell_type": "code",
      "source": [
        "# Hitung total reach per media sosial (berapa banyak responden memilih)\n",
        "media_reach = df_media.sum().sort_values(ascending=False)"
      ],
      "metadata": {
        "id": "Uev3CvEIZdm-"
      },
      "execution_count": null,
      "outputs": []
    },
    {
      "cell_type": "code",
      "source": [
        "# Loop untuk memilih media sosial satu per satu berdasarkan kontribusi reach tertinggi\n",
        "for media in media_reach.index:\n",
        "    new_reach = current_reach | set(df_media.index[df_media[media] == 1])\n",
        "    selected_media.append(media)\n",
        "    reach_progress.append(len(new_reach) / n_responden)\n",
        "\n",
        "    if len(new_reach) == n_responden:\n",
        "        break\n",
        "    current_reach = new_reach"
      ],
      "metadata": {
        "id": "gEUoNMelZzgE"
      },
      "execution_count": null,
      "outputs": []
    },
    {
      "cell_type": "code",
      "source": [
        "# Hitung incremental reach\n",
        "incrementals = [reach_progress[0]] + [\n",
        "    reach_progress[i] - reach_progress[i - 1] for i in range(1, len(reach_progress))\n",
        "]"
      ],
      "metadata": {
        "id": "nXADhaQ-Z7Xb"
      },
      "execution_count": null,
      "outputs": []
    },
    {
      "cell_type": "code",
      "source": [
        "#Visualisasi\n",
        "plt.figure(figsize=(12, 6))\n",
        "bottoms = 0\n",
        "for i, inc in enumerate(incrementals):\n",
        "    plt.bar(f\"{i + 1}\", inc * 100, bottom=bottoms, color=\"#9ccc65\")\n",
        "    plt.text(i, bottoms + inc * 50, f\"{inc * 100:.1f}%\", ha='center', va='bottom', fontsize=9)\n",
        "    bottoms += inc * 100\n",
        "\n",
        "plt.axhline(y=100, color='r', linestyle='--', label='Target 100%')\n",
        "plt.xlabel(\"Jumlah Media Sosial yang Dipilih\")\n",
        "plt.ylabel(\"Total Reach (%)\")\n",
        "plt.title(\" TURF Analysis: Kombinasi Media Sosial yang Disukai Mahasiswa\")\n",
        "plt.legend()\n",
        "plt.grid(True)\n",
        "plt.show()"
      ],
      "metadata": {
        "colab": {
          "base_uri": "https://localhost:8080/",
          "height": 529
        },
        "id": "25VAbY4BaKal",
        "outputId": "99c523b2-2bea-4f02-9988-ef2c92f72ffb"
      },
      "execution_count": null,
      "outputs": [
        {
          "output_type": "display_data",
          "data": {
            "text/plain": [
              "<Figure size 1200x600 with 1 Axes>"
            ],
            "image/png": "[encoded data removed]"
          },
          "metadata": {}
        }
      ]
    },
    {
      "cell_type": "markdown",
      "source": [
        "Berdasarkan hasil analisis TURF terhadap preferensi media sosial mahasiswa, dapat disimpulkan bahwa hanya dengan memilih tiga media sosial saja, seluruh mahasiswa (100%) telah berhasil dijangkau. Media sosial pertama yang dipilih sudah mampu menjangkau sekitar 91,8% dari responden secara langsung, menunjukkan bahwa platform tersebut sangat dominan dan menjadi yang paling populer di kalangan mahasiswa. Penambahan media sosial kedua meningkatkan jangkauan sebesar 6,8%, dan media sosial ketiga menambah jangkauan sebesar 1,4% sehingga totalnya mencapai 100%. Hal ini menunjukkan bahwa sebagian besar mahasiswa terkonsentrasi pada satu atau dua platform utama, sementara platform lainnya memberikan kontribusi yang sangat kecil. Oleh karena itu, dalam menyusun strategi komunikasi, promosi, atau penyebaran informasi kepada mahasiswa, cukup dengan memfokuskan pada dua hingga tiga media sosial utama yang paling sering digunakan agar strategi tersebut efisien namun tetap efektif."
      ],
      "metadata": {
        "id": "LyUIwWvVtOKP"
      }
    },
    {
      "cell_type": "code",
      "source": [
        "#  Hasil Akhir & Insight\n",
        "print(f\"\\n Target 100% tercapai dengan {len(selected_media)} media sosial.\\n\")\n",
        "print(\" Media Sosial terbaik untuk menjangkau seluruh mahasiswa:\")\n",
        "for i, m in enumerate(selected_media):\n",
        "    print(f\"{i+1}. {m}\")\n",
        "\n",
        "print(\"\\n Insight:\")\n",
        "print(f\"1. Kombinasi {len(selected_media)} media sosial sudah mencakup semua preferensi mahasiswa.\")\n",
        "print(f\"2. Media sosial paling dominan adalah '{selected_media[0]}', menjangkau sekitar {df_media[selected_media[0]].sum() / n_responden:.1%} mahasiswa.\")\n",
        "print(f\"3. Setelah {len(selected_media)} media sosial, penambahan lainnya tidak lagi meningkatkan jangkauan.\")"
      ],
      "metadata": {
        "colab": {
          "base_uri": "https://localhost:8080/"
        },
        "id": "r6Sb_AI4btT-",
        "outputId": "77c39726-4ed2-4b8e-d7fc-5c5d2a1ead9d"
      },
      "execution_count": null,
      "outputs": [
        {
          "output_type": "stream",
          "name": "stdout",
          "text": [
            "\n",
            " Target 100% tercapai dengan 3 media sosial.\n",
            "\n",
            " Media Sosial terbaik untuk menjangkau seluruh mahasiswa:\n",
            "1. WhatsApp\n",
            "2. TikTok\n",
            "3. Instagram\n",
            "\n",
            " Insight:\n",
            "1. Kombinasi 3 media sosial sudah mencakup semua preferensi mahasiswa.\n",
            "2. Media sosial paling dominan adalah 'WhatsApp', menjangkau sekitar 91.8% mahasiswa.\n",
            "3. Setelah 3 media sosial, penambahan lainnya tidak lagi meningkatkan jangkauan.\n"
          ]
        }
      ]
    },
    {
      "cell_type": "markdown",
      "source": [
        "# Insight\n",
        "1. Efisiensi Jangkauan Maksimal dengan Kombinasi Minimal\n",
        "Hasil analisis menunjukkan bahwa untuk menjangkau 100% mahasiswa, hanya diperlukan tiga platform media sosial. Ini menunjukkan efisiensi yang tinggi: dengan sedikit media sosial, institusi atau brand dapat menjangkau seluruh target audiens secara efektif.\n",
        "\n",
        "2. Dominasi Media Sosial Tertentu\n",
        "Platform media sosial pertama yang dipilih berhasil menjangkau sekitar 91,8% dari seluruh responden. Hal ini menegaskan bahwa platform tersebut sangat dominan dan menjadi yang paling disukai mahasiswa. Ini adalah platform yang paling strategis untuk dijadikan fokus utama dalam penyebaran informasi atau kampanye digital.\n",
        "\n",
        "3. Kontribusi Marginal Media Sosial Tambahan\n",
        "Media sosial kedua dan ketiga hanya menambahkan 6,8% dan 1,4% reach secara berturut-turut. Setelah platform ketiga, penambahan media sosial lainnya tidak memberikan kontribusi tambahan terhadap jangkauan total. Artinya, ada titik jenuh di mana menambahkan lebih banyak platform tidak lagi efektif.\n",
        "\n",
        "3. Strategi Komunikasi Lebih Tepat Sasaran\n",
        "Dengan memahami kombinasi media sosial yang paling disukai, lembaga pendidikan, pemasar, atau pembuat konten dapat menyesuaikan strategi mereka, baik dalam hal anggaran, fokus platform, maupun jenis konten yang disebarkan, sehingga tidak menyebarkan sumber daya secara merata ke platform yang sebenarnya kurang efektif.\n",
        "\n",
        "4. Pentingnya Pemahaman Preferensi Audiens\n",
        "Analisis TURF memberikan gambaran yang tajam tentang apa yang benar-benar digunakan dan disukai oleh mahasiswa, bukan sekadar asumsi. Ini mendukung pengambilan keputusan berbasis data (data-driven decision making) yang lebih akurat dan berdampak."
      ],
      "metadata": {
        "id": "aTF-_umWt0P7"
      }
    }
  ]
}