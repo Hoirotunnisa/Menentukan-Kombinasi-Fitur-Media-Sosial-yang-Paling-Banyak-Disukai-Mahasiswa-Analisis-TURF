{
  "nbformat": 4,
  "nbformat_minor": 0,
  "metadata": {
    "colab": {
      "provenance": [],
      "authorship_tag": "ABX9TyOPNGyGC9mWZnAQGixHtQTr",
      "include_colab_link": true
    },
    "kernelspec": {
      "name": "python3",
      "display_name": "Python 3"
    },
    "language_info": {
      "name": "python"
    }
  },
  "cells": [
    {
      "cell_type": "markdown",
      "metadata": {
        "id": "view-in-github",
        "colab_type": "text"
      },
      "source": [
        "<a href=\"https://colab.research.google.com/github/Hoirotunnisa/Menentukan-Kombinasi-Fitur-Media-Sosial-yang-Paling-Banyak-Disukai-Mahasiswa-Analisis-TURF/blob/main/Manova.ipynb\" target=\"_parent\"><img src=\"https://colab.research.google.com/assets/colab-badge.svg\" alt=\"Open In Colab\"/></a>"
      ]
    },
    {
      "cell_type": "markdown",
      "source": [
        "#**Analisis MANOVA atas Pengaruh Mendengarkan Musik terhadap Fokus dan Produktivitas Mahasiswa dalam Mengerjakan Tugas**\n",
        "- **Nama        :** Hoirotun Nisa'\n",
        "- **Kelas       :** Matematika 6B\n",
        "- **NIM         :** 11220940000003"
      ],
      "metadata": {
        "id": "rXXebi5DYvcu"
      }
    },
    {
      "cell_type": "code",
      "source": [
        "pip install pingouin"
      ],
      "metadata": {
        "colab": {
          "base_uri": "https://localhost:8080/"
        },
        "id": "dE3HlphrY5Ga",
        "outputId": "48dc445f-77a9-4760-f6db-4cb08742d9e4"
      },
      "execution_count": 3,
      "outputs": [
        {
          "output_type": "stream",
          "name": "stdout",
          "text": [
            "Requirement already satisfied: pingouin in /usr/local/lib/python3.11/dist-packages (0.5.5)\n",
            "Requirement already satisfied: matplotlib in /usr/local/lib/python3.11/dist-packages (from pingouin) (3.10.0)\n",
            "Requirement already satisfied: numpy in /usr/local/lib/python3.11/dist-packages (from pingouin) (2.0.2)\n",
            "Requirement already satisfied: pandas>=1.5 in /usr/local/lib/python3.11/dist-packages (from pingouin) (2.2.2)\n",
            "Requirement already satisfied: pandas-flavor in /usr/local/lib/python3.11/dist-packages (from pingouin) (0.7.0)\n",
            "Requirement already satisfied: scikit-learn>=1.2 in /usr/local/lib/python3.11/dist-packages (from pingouin) (1.6.1)\n",
            "Requirement already satisfied: scipy in /usr/local/lib/python3.11/dist-packages (from pingouin) (1.15.3)\n",
            "Requirement already satisfied: seaborn in /usr/local/lib/python3.11/dist-packages (from pingouin) (0.13.2)\n",
            "Requirement already satisfied: statsmodels in /usr/local/lib/python3.11/dist-packages (from pingouin) (0.14.4)\n",
            "Requirement already satisfied: tabulate in /usr/local/lib/python3.11/dist-packages (from pingouin) (0.9.0)\n",
            "Requirement already satisfied: python-dateutil>=2.8.2 in /usr/local/lib/python3.11/dist-packages (from pandas>=1.5->pingouin) (2.9.0.post0)\n",
            "Requirement already satisfied: pytz>=2020.1 in /usr/local/lib/python3.11/dist-packages (from pandas>=1.5->pingouin) (2025.2)\n",
            "Requirement already satisfied: tzdata>=2022.7 in /usr/local/lib/python3.11/dist-packages (from pandas>=1.5->pingouin) (2025.2)\n",
            "Requirement already satisfied: joblib>=1.2.0 in /usr/local/lib/python3.11/dist-packages (from scikit-learn>=1.2->pingouin) (1.5.1)\n",
            "Requirement already satisfied: threadpoolctl>=3.1.0 in /usr/local/lib/python3.11/dist-packages (from scikit-learn>=1.2->pingouin) (3.6.0)\n",
            "Requirement already satisfied: contourpy>=1.0.1 in /usr/local/lib/python3.11/dist-packages (from matplotlib->pingouin) (1.3.2)\n",
            "Requirement already satisfied: cycler>=0.10 in /usr/local/lib/python3.11/dist-packages (from matplotlib->pingouin) (0.12.1)\n",
            "Requirement already satisfied: fonttools>=4.22.0 in /usr/local/lib/python3.11/dist-packages (from matplotlib->pingouin) (4.58.1)\n",
            "Requirement already satisfied: kiwisolver>=1.3.1 in /usr/local/lib/python3.11/dist-packages (from matplotlib->pingouin) (1.4.8)\n",
            "Requirement already satisfied: packaging>=20.0 in /usr/local/lib/python3.11/dist-packages (from matplotlib->pingouin) (24.2)\n",
            "Requirement already satisfied: pillow>=8 in /usr/local/lib/python3.11/dist-packages (from matplotlib->pingouin) (11.2.1)\n",
            "Requirement already satisfied: pyparsing>=2.3.1 in /usr/local/lib/python3.11/dist-packages (from matplotlib->pingouin) (3.2.3)\n",
            "Requirement already satisfied: xarray in /usr/local/lib/python3.11/dist-packages (from pandas-flavor->pingouin) (2025.3.1)\n",
            "Requirement already satisfied: patsy>=0.5.6 in /usr/local/lib/python3.11/dist-packages (from statsmodels->pingouin) (1.0.1)\n",
            "Requirement already satisfied: six>=1.5 in /usr/local/lib/python3.11/dist-packages (from python-dateutil>=2.8.2->pandas>=1.5->pingouin) (1.17.0)\n"
          ]
        }
      ]
    },
    {
      "cell_type": "code",
      "source": [
        "import pandas as pd\n",
        "from statsmodels.multivariate.manova import MANOVA\n",
        "import pingouin as pg"
      ],
      "metadata": {
        "id": "f5o7iXCTkX0k"
      },
      "execution_count": null,
      "outputs": []
    },
    {
      "cell_type": "code",
      "source": [
        "# Baca file Excel\n",
        "df = pd.read_excel(\"/content/data_responden_musik_fokus_produktivitas.xlsx\")\n"
      ],
      "metadata": {
        "id": "vkxpPfoDkb74"
      },
      "execution_count": null,
      "outputs": []
    },
    {
      "cell_type": "code",
      "source": [
        "# Ubah nama kolom agar konsisten\n",
        "df.rename(columns={\n",
        "    \"Preferred_Genre\": \"Genre\",\n",
        "    \"Prompt_Submission\": \"Prompt\",\n",
        "    \"Study_Session\": \"Study\",\n",
        "    \"Academic_Task\": \"Task\",\n",
        "    \"Concentration\": \"Concentration\"\n",
        "}, inplace=True)"
      ],
      "metadata": {
        "id": "7Gs6S1NikhsF"
      },
      "execution_count": null,
      "outputs": []
    },
    {
      "cell_type": "code",
      "source": [
        "# MANOVA\n",
        "maov = MANOVA.from_formula('Prompt + Study + Task + Concentration ~ Genre', data=df)\n",
        "print(maov.mv_test())"
      ],
      "metadata": {
        "colab": {
          "base_uri": "https://localhost:8080/"
        },
        "id": "jGCOqjAlkmWT",
        "outputId": "6752a2e2-d325-4c40-befb-97edc69d3578"
      },
      "execution_count": null,
      "outputs": [
        {
          "output_type": "stream",
          "name": "stdout",
          "text": [
            "                  Multivariate linear model\n",
            "==============================================================\n",
            "                                                              \n",
            "--------------------------------------------------------------\n",
            "       Intercept        Value  Num DF  Den DF  F Value  Pr > F\n",
            "--------------------------------------------------------------\n",
            "          Wilks' lambda 0.1268 4.0000 161.0000 277.2475 0.0000\n",
            "         Pillai's trace 0.8732 4.0000 161.0000 277.2475 0.0000\n",
            " Hotelling-Lawley trace 6.8881 4.0000 161.0000 277.2475 0.0000\n",
            "    Roy's greatest root 6.8881 4.0000 161.0000 277.2475 0.0000\n",
            "--------------------------------------------------------------\n",
            "                                                              \n",
            "--------------------------------------------------------------\n",
            "         Genre          Value   Num DF  Den DF  F Value Pr > F\n",
            "--------------------------------------------------------------\n",
            "          Wilks' lambda 0.8643 16.0000 492.5008  1.5045 0.0932\n",
            "         Pillai's trace 0.1407 16.0000 656.0000  1.4946 0.0954\n",
            " Hotelling-Lawley trace 0.1512 16.0000 316.0497  1.5121 0.0934\n",
            "    Roy's greatest root 0.1008  4.0000 164.0000  4.1333 0.0032\n",
            "==============================================================\n",
            "\n"
          ]
        }
      ]
    },
    {
      "cell_type": "markdown",
      "source": [
        "Hasil analisis MANOVA menunjukkan bahwa sebagian besar statistik multivariat, seperti Wilks’ Lambda (p = 0,0932), Pillai’s Trace (p = 0,0954), dan Hotelling-Lawley Trace (p = 0,0934), tidak signifikan karena nilai p-nya lebih besar dari 0,05. Namun, Roy’s Greatest Root menunjukkan hasil yang signifikan dengan p = 0,0032. Hal ini mengindikasikan bahwa terdapat perbedaan signifikan antara genre musik terhadap paling tidak salah satu dari variabel fokus dan produktivitas. Dengan demikian, meskipun secara umum efeknya tidak terlalu kuat, hasil ini tetap memberikan dasar untuk melanjutkan ke analisis post-hoc guna mengetahui variabel dan pasangan genre yang memiliki perbedaan signifikan."
      ],
      "metadata": {
        "id": "Z_IB9IkiJshY"
      }
    },
    {
      "cell_type": "code",
      "source": [
        "# Post-hoc Tukey untuk masing-masing variabel\n",
        "print(\"\\n=== Tukey Post-hoc: Prompt Submission ===\")\n",
        "print(pg.pairwise_tukey(data=df, dv='Prompt', between='Genre'))\n"
      ],
      "metadata": {
        "colab": {
          "base_uri": "https://localhost:8080/"
        },
        "id": "hVyOb6KNokxE",
        "outputId": "d0b123a6-d4fc-4400-e3f6-e1de02e715d0"
      },
      "execution_count": null,
      "outputs": [
        {
          "output_type": "stream",
          "name": "stdout",
          "text": [
            "\n",
            "=== Tukey Post-hoc: Prompt Submission ===\n",
            "                A               B   mean(A)   mean(B)      diff        se  \\\n",
            "0         Country    Instrumental  3.923077  3.904762  0.018315  0.278632   \n",
            "1         Country             Pop  3.923077  3.929412 -0.006335  0.261443   \n",
            "2         Country  Rhythm’n’blues  3.923077  3.000000  0.923077  0.359652   \n",
            "3         Country            Rock  3.923077  3.611111  0.311966  0.319535   \n",
            "4    Instrumental             Pop  3.904762  3.929412 -0.024650  0.165582   \n",
            "5    Instrumental  Rhythm’n’blues  3.904762  3.000000  0.904762  0.297346   \n",
            "6    Instrumental            Rock  3.904762  3.611111  0.293651  0.247320   \n",
            "7             Pop  Rhythm’n’blues  3.929412  3.000000  0.929412  0.281304   \n",
            "8             Pop            Rock  3.929412  3.611111  0.318301  0.227781   \n",
            "9  Rhythm’n’blues            Rock  3.000000  3.611111 -0.611111  0.335979   \n",
            "\n",
            "          T   p-tukey    hedges  \n",
            "0  0.065732  0.999996  0.020643  \n",
            "1 -0.024230  1.000000 -0.007552  \n",
            "2  2.566581  0.081460  0.873118  \n",
            "3  0.976312  0.865557  0.302781  \n",
            "4 -0.148868  0.999889 -0.029679  \n",
            "5  3.042790  0.022599  0.986750  \n",
            "6  1.187329  0.758649  0.318944  \n",
            "7  3.303946  0.010166  1.087392  \n",
            "8  1.397395  0.630214  0.369458  \n",
            "9 -1.818898  0.366245 -0.560905  \n"
          ]
        }
      ]
    },
    {
      "cell_type": "markdown",
      "source": [
        "Hasil uji Tukey Post-hoc menunjukkan bahwa Prompt Submission mahasiswa berbeda signifikan antar beberapa genre musik. Mahasiswa yang mendengarkan musik Pop, Country, dan Instrumental memiliki skor Prompt Submission lebih tinggi dibandingkan mereka yang mendengarkan Rhythm’n’blues. Perbedaan signifikan terjadi pada pasangan Country vs Rhythm’n’blues, Pop vs Rhythm’n’blues, dan Instrumental vs Rock (p < 0,05). Ini menunjukkan bahwa genre musik tertentu dapat memengaruhi ketepatan mahasiswa dalam menyelesaikan tugas."
      ],
      "metadata": {
        "id": "an44yFuOOJHT"
      }
    },
    {
      "cell_type": "code",
      "source": [
        "print(\"\\n=== Tukey Post-hoc: Study Session ===\")\n",
        "print(pg.pairwise_tukey(data=df, dv='Study', between='Genre'))"
      ],
      "metadata": {
        "id": "MsU-lrKhlJP8",
        "colab": {
          "base_uri": "https://localhost:8080/"
        },
        "outputId": "59334240-a4c3-4607-f2f9-679ed533f4b2"
      },
      "execution_count": null,
      "outputs": [
        {
          "output_type": "stream",
          "name": "stdout",
          "text": [
            "\n",
            "=== Tukey Post-hoc: Study Session ===\n",
            "                A               B   mean(A)   mean(B)      diff        se  \\\n",
            "0         Country    Instrumental  2.769231  2.928571 -0.159341  0.266367   \n",
            "1         Country             Pop  2.769231  3.152941 -0.383710  0.249935   \n",
            "2         Country  Rhythm’n’blues  2.769231  3.090909 -0.321678  0.343822   \n",
            "3         Country            Rock  2.769231  3.166667 -0.397436  0.305470   \n",
            "4    Instrumental             Pop  2.928571  3.152941 -0.224370  0.158294   \n",
            "5    Instrumental  Rhythm’n’blues  2.928571  3.090909 -0.162338  0.284258   \n",
            "6    Instrumental            Rock  2.928571  3.166667 -0.238095  0.236434   \n",
            "7             Pop  Rhythm’n’blues  3.152941  3.090909  0.062032  0.268922   \n",
            "8             Pop            Rock  3.152941  3.166667 -0.013725  0.217755   \n",
            "9  Rhythm’n’blues            Rock  3.090909  3.166667 -0.075758  0.321190   \n",
            "\n",
            "          T   p-tukey    hedges  \n",
            "0 -0.598199  0.975190 -0.187757  \n",
            "1 -1.535238  0.541161 -0.448019  \n",
            "2 -0.935596  0.882643 -0.373449  \n",
            "3 -1.301063  0.690934 -0.480638  \n",
            "4 -1.417427  0.617353 -0.263129  \n",
            "5 -0.571093  0.979085 -0.191177  \n",
            "6 -1.007025  0.851851 -0.285542  \n",
            "7  0.230670  0.999367  0.072392  \n",
            "8 -0.063032  0.999996 -0.016190  \n",
            "9 -0.235865  0.999309 -0.091700  \n"
          ]
        }
      ]
    },
    {
      "cell_type": "markdown",
      "source": [
        "Hasil uji Tukey Post-hoc pada variabel Study Session menunjukkan tidak ada perbedaan yang signifikan antar genre musik, karena seluruh nilai p-tukey > 0,05. Ini berarti genre musik yang didengarkan tidak berpengaruh secara signifikan terhadap sesi belajar mahasiswa."
      ],
      "metadata": {
        "id": "x7ipSNjsOfOg"
      }
    },
    {
      "cell_type": "code",
      "source": [
        "print(\"\\n=== Tukey Post-hoc: Academic Task ===\")\n",
        "print(pg.pairwise_tukey(data=df, dv='Task', between='Genre'))"
      ],
      "metadata": {
        "colab": {
          "base_uri": "https://localhost:8080/"
        },
        "id": "JjuEtXdpoq_h",
        "outputId": "3ff551a6-5b72-440f-bf2b-a236022cf15e"
      },
      "execution_count": null,
      "outputs": [
        {
          "output_type": "stream",
          "name": "stdout",
          "text": [
            "\n",
            "=== Tukey Post-hoc: Academic Task ===\n",
            "                A               B   mean(A)   mean(B)      diff        se  \\\n",
            "0         Country    Instrumental  4.230769  4.166667  0.064103  0.273379   \n",
            "1         Country             Pop  4.230769  4.082353  0.148416  0.256514   \n",
            "2         Country  Rhythm’n’blues  4.230769  4.000000  0.230769  0.352872   \n",
            "3         Country            Rock  4.230769  3.777778  0.452991  0.313511   \n",
            "4    Instrumental             Pop  4.166667  4.082353  0.084314  0.162460   \n",
            "5    Instrumental  Rhythm’n’blues  4.166667  4.000000  0.166667  0.291741   \n",
            "6    Instrumental            Rock  4.166667  3.777778  0.388889  0.242658   \n",
            "7             Pop  Rhythm’n’blues  4.082353  4.000000  0.082353  0.276000   \n",
            "8             Pop            Rock  4.082353  3.777778  0.304575  0.223487   \n",
            "9  Rhythm’n’blues            Rock  4.000000  3.777778  0.222222  0.329645   \n",
            "\n",
            "          T   p-tukey    hedges  \n",
            "0  0.234483  0.999325  0.074490  \n",
            "1  0.578588  0.978053  0.169177  \n",
            "2  0.653974  0.965688  0.231910  \n",
            "3  1.444898  0.599637  0.513348  \n",
            "4  0.518980  0.985353  0.098627  \n",
            "5  0.571284  0.979059  0.190647  \n",
            "6  1.602621  0.497865  0.468425  \n",
            "7  0.298380  0.998258  0.093071  \n",
            "8  1.362830  0.652250  0.354294  \n",
            "9  0.674126  0.961734  0.244266  \n"
          ]
        }
      ]
    },
    {
      "cell_type": "markdown",
      "source": [
        "Hasil uji Tukey Post-hoc pada variabel Academic Task menunjukkan tidak ada perbedaan signifikan antar genre musik (p > 0,05). Artinya, jenis musik yang didengarkan tidak berpengaruh secara signifikan terhadap kemampuan mahasiswa dalam menyelesaikan tugas akademik."
      ],
      "metadata": {
        "id": "3oX8YA5fXnyl"
      }
    },
    {
      "cell_type": "code",
      "source": [
        "print(\"\\n=== Tukey Post-hoc: Concentration ===\")\n",
        "print(pg.pairwise_tukey(data=df, dv='Concentration', between='Genre'))"
      ],
      "metadata": {
        "colab": {
          "base_uri": "https://localhost:8080/"
        },
        "id": "r4couZfbouQm",
        "outputId": "9d4651ca-8cd4-4975-c132-4ecde5191c00"
      },
      "execution_count": null,
      "outputs": [
        {
          "output_type": "stream",
          "name": "stdout",
          "text": [
            "\n",
            "=== Tukey Post-hoc: Concentration ===\n",
            "                A               B   mean(A)   mean(B)      diff        se  \\\n",
            "0         Country    Instrumental  2.923077  3.238095 -0.315018  0.256130   \n",
            "1         Country             Pop  2.923077  3.070588 -0.147511  0.240329   \n",
            "2         Country  Rhythm’n’blues  2.923077  2.909091  0.013986  0.330607   \n",
            "3         Country            Rock  2.923077  2.888889  0.034188  0.293730   \n",
            "4    Instrumental             Pop  3.238095  3.070588  0.167507  0.152210   \n",
            "5    Instrumental  Rhythm’n’blues  3.238095  2.909091  0.329004  0.273333   \n",
            "6    Instrumental            Rock  3.238095  2.888889  0.349206  0.227347   \n",
            "7             Pop  Rhythm’n’blues  3.070588  2.909091  0.161497  0.258586   \n",
            "8             Pop            Rock  3.070588  2.888889  0.181699  0.209386   \n",
            "9  Rhythm’n’blues            Rock  2.909091  2.888889  0.020202  0.308845   \n",
            "\n",
            "          T   p-tukey    hedges  \n",
            "0 -1.229917  0.733937 -0.423167  \n",
            "1 -0.613788  0.972741 -0.175848  \n",
            "2  0.042304  0.999999  0.015918  \n",
            "3  0.116393  0.999958  0.037633  \n",
            "4  1.100501  0.806068  0.211872  \n",
            "5  1.203677  0.749266  0.449435  \n",
            "6  1.536005  0.540666  0.454220  \n",
            "7  0.624541  0.970960  0.193424  \n",
            "8  0.867772  0.908271  0.214565  \n",
            "9  0.065411  0.999996  0.022433  \n"
          ]
        }
      ]
    },
    {
      "cell_type": "markdown",
      "source": [
        "Hasil uji Tukey Post-hoc pada variabel Concentration menunjukkan tidak ada perbedaan signifikan antar genre musik (p > 0,05), sehingga dapat disimpulkan bahwa genre musik tidak berpengaruh secara signifikan terhadap konsentrasi mahasiswa."
      ],
      "metadata": {
        "id": "I_DcNTS_Xz2F"
      }
    },
    {
      "cell_type": "code",
      "source": [
        "!pip install seaborn\n"
      ],
      "metadata": {
        "colab": {
          "base_uri": "https://localhost:8080/"
        },
        "id": "9oQSSZs5wLg6",
        "outputId": "4407c4e9-8759-43b5-a1ec-8a4b6ba2d9ae"
      },
      "execution_count": null,
      "outputs": [
        {
          "output_type": "stream",
          "name": "stdout",
          "text": [
            "Requirement already satisfied: seaborn in /usr/local/lib/python3.11/dist-packages (0.13.2)\n",
            "Requirement already satisfied: numpy!=1.24.0,>=1.20 in /usr/local/lib/python3.11/dist-packages (from seaborn) (2.0.2)\n",
            "Requirement already satisfied: pandas>=1.2 in /usr/local/lib/python3.11/dist-packages (from seaborn) (2.2.2)\n",
            "Requirement already satisfied: matplotlib!=3.6.1,>=3.4 in /usr/local/lib/python3.11/dist-packages (from seaborn) (3.10.0)\n",
            "Requirement already satisfied: contourpy>=1.0.1 in /usr/local/lib/python3.11/dist-packages (from matplotlib!=3.6.1,>=3.4->seaborn) (1.3.2)\n",
            "Requirement already satisfied: cycler>=0.10 in /usr/local/lib/python3.11/dist-packages (from matplotlib!=3.6.1,>=3.4->seaborn) (0.12.1)\n",
            "Requirement already satisfied: fonttools>=4.22.0 in /usr/local/lib/python3.11/dist-packages (from matplotlib!=3.6.1,>=3.4->seaborn) (4.58.1)\n",
            "Requirement already satisfied: kiwisolver>=1.3.1 in /usr/local/lib/python3.11/dist-packages (from matplotlib!=3.6.1,>=3.4->seaborn) (1.4.8)\n",
            "Requirement already satisfied: packaging>=20.0 in /usr/local/lib/python3.11/dist-packages (from matplotlib!=3.6.1,>=3.4->seaborn) (24.2)\n",
            "Requirement already satisfied: pillow>=8 in /usr/local/lib/python3.11/dist-packages (from matplotlib!=3.6.1,>=3.4->seaborn) (11.2.1)\n",
            "Requirement already satisfied: pyparsing>=2.3.1 in /usr/local/lib/python3.11/dist-packages (from matplotlib!=3.6.1,>=3.4->seaborn) (3.2.3)\n",
            "Requirement already satisfied: python-dateutil>=2.7 in /usr/local/lib/python3.11/dist-packages (from matplotlib!=3.6.1,>=3.4->seaborn) (2.9.0.post0)\n",
            "Requirement already satisfied: pytz>=2020.1 in /usr/local/lib/python3.11/dist-packages (from pandas>=1.2->seaborn) (2025.2)\n",
            "Requirement already satisfied: tzdata>=2022.7 in /usr/local/lib/python3.11/dist-packages (from pandas>=1.2->seaborn) (2025.2)\n",
            "Requirement already satisfied: six>=1.5 in /usr/local/lib/python3.11/dist-packages (from python-dateutil>=2.7->matplotlib!=3.6.1,>=3.4->seaborn) (1.17.0)\n"
          ]
        }
      ]
    },
    {
      "cell_type": "code",
      "source": [
        "import pandas as pd\n",
        "import matplotlib.pyplot as plt\n",
        "\n",
        "# Baca data\n",
        "df = pd.read_excel(\"data_responden_musik_fokus_produktivitas.xlsx\")\n",
        "\n",
        "# Rename kolom agar konsisten\n",
        "df.rename(columns={\n",
        "    \"Preferred_Genre\": \"Genre\",\n",
        "    \"Prompt_Submission\": \"Prompt\",\n",
        "    \"Study_Session\": \"Study\",\n",
        "    \"Academic_Task\": \"Task\",\n",
        "    \"Concentration\": \"Concentration\"\n",
        "}, inplace=True)\n",
        "\n",
        "# Visualisasi: rata-rata per genre per variabel\n",
        "df.groupby('Genre')[['Prompt', 'Study', 'Task', 'Concentration']].mean().T.plot(kind='bar')\n",
        "\n",
        "# Judul dan label\n",
        "plt.title('Rata-rata per Genre Musik per Variabel')\n",
        "plt.ylabel('Rata-rata Skor (1–5)')\n",
        "plt.xticks(rotation=0)\n",
        "plt.legend(title='Genre Musik')\n",
        "plt.tight_layout()\n",
        "plt.show()\n"
      ],
      "metadata": {
        "id": "Oq2pn7CqPosW",
        "outputId": "c63964ec-f701-4f4b-f623-7005d2d21ce7",
        "colab": {
          "base_uri": "https://localhost:8080/",
          "height": 487
        }
      },
      "execution_count": null,
      "outputs": [
        {
          "output_type": "display_data",
          "data": {
            "text/plain": [
              "<Figure size 640x480 with 1 Axes>"
            ],
            "image/png": "[encoded data removed]"
          },
          "metadata": {}
        }
      ]
    },
    {
      "cell_type": "markdown",
      "source": [
        "Berdasarkan grafik rata-rata per genre musik terhadap variabel fokus dan produktivitas, terlihat bahwa jenis musik yang didengarkan mahasiswa memberikan pengaruh yang berbeda pada setiap aspek. Genre Pop, Instrumental, dan Country menunjukkan rata-rata skor yang lebih tinggi terutama pada variabel Prompt Submission dan Academic Task, sedangkan Rhythm’n’blues dan Rock cenderung lebih rendah. Pada variabel Study Session, perbedaan antar genre relatif kecil, menunjukkan bahwa durasi atau kualitas sesi belajar tidak terlalu dipengaruhi oleh genre musik. Untuk variabel Concentration, genre Instrumental tampak paling mendukung, sementara Rock dan Rhythm’n’blues kembali menjadi genre dengan skor terendah.\n",
        "\n",
        "Insight:\n",
        "\n",
        "- Pop dan Instrumental: Konsisten menghasilkan skor tinggi pada Prompt Submission, Academic Task, dan Concentration.\n",
        "\n",
        "- Instrumental: Paling efektif untuk meningkatkan konsentrasi saat belajar.\n",
        "\n",
        "-  Rhythm’n’blues dan Rock: Kurang mendukung dalam hal ketepatan waktu dan fokus.\n",
        "\n",
        "- Study Session: Cenderung tidak dipengaruhi secara signifikan oleh genre musik.\n",
        "\n",
        "Hasil ini dapat menjadi dasar dalam merekomendasikan genre musik tertentu yang lebih efektif untuk mendukung kinerja akademik mahasiswa."
      ],
      "metadata": {
        "id": "kN2jezolYZwS"
      }
    }
  ]
}